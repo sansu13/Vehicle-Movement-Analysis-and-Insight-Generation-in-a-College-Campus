{
 "cells": [
  {
   "cell_type": "code",
   "execution_count": 18,
   "id": "5975929d-4f53-4d71-a883-f1a69f36afd3",
   "metadata": {},
   "outputs": [],
   "source": [
    "import numpy as np\n",
    "import pandas as pd\n",
    "import matplotlib.pyplot as plt\n",
    "import seaborn as sns\n",
    "\n",
    "\n",
    "# Read data from Excel file\n",
    "df = pd.read_csv('/Users/aansikka/Downloads/result.csv')\n",
    "\n",
    "# Convert timestamps to datetime objects\n"
   ]
  },
  {
   "cell_type": "code",
   "execution_count": 19,
   "id": "a3c4d330-1686-4cce-aa11-c1cfe97c2d8d",
   "metadata": {},
   "outputs": [
    {
     "data": {
      "text/html": [
       "<div>\n",
       "<style scoped>\n",
       "    .dataframe tbody tr th:only-of-type {\n",
       "        vertical-align: middle;\n",
       "    }\n",
       "\n",
       "    .dataframe tbody tr th {\n",
       "        vertical-align: top;\n",
       "    }\n",
       "\n",
       "    .dataframe thead th {\n",
       "        text-align: right;\n",
       "    }\n",
       "</style>\n",
       "<table border=\"1\" class=\"dataframe\">\n",
       "  <thead>\n",
       "    <tr style=\"text-align: right;\">\n",
       "      <th></th>\n",
       "      <th>Number Plate</th>\n",
       "      <th>Date</th>\n",
       "      <th>Time</th>\n",
       "    </tr>\n",
       "  </thead>\n",
       "  <tbody>\n",
       "    <tr>\n",
       "      <th>0</th>\n",
       "      <td>17.06.03</td>\n",
       "      <td>2024-07-15</td>\n",
       "      <td>15:21:30</td>\n",
       "    </tr>\n",
       "    <tr>\n",
       "      <th>1</th>\n",
       "      <td>19/05/2019</td>\n",
       "      <td>2024-07-15</td>\n",
       "      <td>15:21:30</td>\n",
       "    </tr>\n",
       "    <tr>\n",
       "      <th>2</th>\n",
       "      <td>17.06.03</td>\n",
       "      <td>2024-07-15</td>\n",
       "      <td>15:21:30</td>\n",
       "    </tr>\n",
       "    <tr>\n",
       "      <th>3</th>\n",
       "      <td>19/05/2019</td>\n",
       "      <td>2024-07-15</td>\n",
       "      <td>15:21:30</td>\n",
       "    </tr>\n",
       "    <tr>\n",
       "      <th>4</th>\n",
       "      <td>CVBAtOUS]</td>\n",
       "      <td>2024-07-15</td>\n",
       "      <td>15:21:31</td>\n",
       "    </tr>\n",
       "    <tr>\n",
       "      <th>...</th>\n",
       "      <td>...</td>\n",
       "      <td>...</td>\n",
       "      <td>...</td>\n",
       "    </tr>\n",
       "    <tr>\n",
       "      <th>353</th>\n",
       "      <td>19/05/2019</td>\n",
       "      <td>2024-07-15</td>\n",
       "      <td>15:21:36</td>\n",
       "    </tr>\n",
       "    <tr>\n",
       "      <th>354</th>\n",
       "      <td>CYG JONSI</td>\n",
       "      <td>2024-07-15</td>\n",
       "      <td>15:21:36</td>\n",
       "    </tr>\n",
       "    <tr>\n",
       "      <th>355</th>\n",
       "      <td>17.06.07</td>\n",
       "      <td>2024-07-15</td>\n",
       "      <td>15:21:36</td>\n",
       "    </tr>\n",
       "    <tr>\n",
       "      <th>356</th>\n",
       "      <td>19/05/2019</td>\n",
       "      <td>2024-07-15</td>\n",
       "      <td>15:21:36</td>\n",
       "    </tr>\n",
       "    <tr>\n",
       "      <th>357</th>\n",
       "      <td>CVG4ONS</td>\n",
       "      <td>2024-07-15</td>\n",
       "      <td>15:21:36</td>\n",
       "    </tr>\n",
       "  </tbody>\n",
       "</table>\n",
       "<p>358 rows × 3 columns</p>\n",
       "</div>"
      ],
      "text/plain": [
       "    Number Plate        Date      Time\n",
       "0       17.06.03  2024-07-15  15:21:30\n",
       "1     19/05/2019  2024-07-15  15:21:30\n",
       "2       17.06.03  2024-07-15  15:21:30\n",
       "3     19/05/2019  2024-07-15  15:21:30\n",
       "4      CVBAtOUS]  2024-07-15  15:21:31\n",
       "..           ...         ...       ...\n",
       "353   19/05/2019  2024-07-15  15:21:36\n",
       "354    CYG JONSI  2024-07-15  15:21:36\n",
       "355     17.06.07  2024-07-15  15:21:36\n",
       "356   19/05/2019  2024-07-15  15:21:36\n",
       "357      CVG4ONS  2024-07-15  15:21:36\n",
       "\n",
       "[358 rows x 3 columns]"
      ]
     },
     "execution_count": 19,
     "metadata": {},
     "output_type": "execute_result"
    }
   ],
   "source": [
    "df"
   ]
  },
  {
   "cell_type": "code",
   "execution_count": 20,
   "id": "b6d5f17d-ac18-445f-9d63-1a4140ee0f47",
   "metadata": {},
   "outputs": [
    {
     "data": {
      "text/plain": [
       "<bound method NDFrame.describe of     Number Plate        Date      Time\n",
       "0       17.06.03  2024-07-15  15:21:30\n",
       "1     19/05/2019  2024-07-15  15:21:30\n",
       "2       17.06.03  2024-07-15  15:21:30\n",
       "3     19/05/2019  2024-07-15  15:21:30\n",
       "4      CVBAtOUS]  2024-07-15  15:21:31\n",
       "..           ...         ...       ...\n",
       "353   19/05/2019  2024-07-15  15:21:36\n",
       "354    CYG JONSI  2024-07-15  15:21:36\n",
       "355     17.06.07  2024-07-15  15:21:36\n",
       "356   19/05/2019  2024-07-15  15:21:36\n",
       "357      CVG4ONS  2024-07-15  15:21:36\n",
       "\n",
       "[358 rows x 3 columns]>"
      ]
     },
     "execution_count": 20,
     "metadata": {},
     "output_type": "execute_result"
    }
   ],
   "source": [
    "df.describe\n"
   ]
  },
  {
   "cell_type": "code",
   "execution_count": 22,
   "id": "dd37d416-fc93-4b21-85fa-c0072e8a4766",
   "metadata": {},
   "outputs": [
    {
     "name": "stderr",
     "output_type": "stream",
     "text": [
      "/var/folders/8b/z3_yp6fs6s34dlfh3mv6vkgr0000gn/T/ipykernel_13504/720567676.py:1: UserWarning: Could not infer format, so each element will be parsed individually, falling back to `dateutil`. To ensure parsing is consistent and as-expected, please specify a format.\n",
      "  df['Time'] = pd.to_datetime(df['Time'])\n"
     ]
    }
   ],
   "source": [
    "df['Time'] = pd.to_datetime(df['Time'])\n"
   ]
  },
  {
   "cell_type": "code",
   "execution_count": 26,
   "id": "b1eac6ce-39e3-4c62-beef-fa5fb93e0ee2",
   "metadata": {},
   "outputs": [],
   "source": [
    "df['Number Plate'] = pd.to_numeric(df['Number Plate'], errors='coerce')  # Convert to numeric, replace non-numeric values with NaN\n",
    "df['Time'] = pd.to_numeric(df['Time'], errors='coerce')"
   ]
  },
  {
   "cell_type": "code",
   "execution_count": 33,
   "id": "5b60c1c5-bcdd-49f1-a2fe-f6f636b09700",
   "metadata": {
    "scrolled": true
   },
   "outputs": [
    {
     "name": "stderr",
     "output_type": "stream",
     "text": [
      "/opt/anaconda3/lib/python3.11/site-packages/seaborn/_oldcore.py:1119: FutureWarning: use_inf_as_na option is deprecated and will be removed in a future version. Convert inf values to NaN before operating instead.\n",
      "  with pd.option_context('mode.use_inf_as_na', True):\n",
      "/opt/anaconda3/lib/python3.11/site-packages/seaborn/_oldcore.py:1119: FutureWarning: use_inf_as_na option is deprecated and will be removed in a future version. Convert inf values to NaN before operating instead.\n",
      "  with pd.option_context('mode.use_inf_as_na', True):\n"
     ]
    },
    {
     "data": {
      "image/png": "[encoded data removed]",
      "text/plain": [
       "<Figure size 1000x600 with 1 Axes>"
      ]
     },
     "metadata": {},
     "output_type": "display_data"
    }
   ],
   "source": [
    "import seaborn as sns\n",
    "import matplotlib.pyplot as plt\n",
    "\n",
    "\n",
    "\n",
    "df = pd.read_csv('/Users/aansikka/Downloads/result.csv')\n",
    "df.columns = df.columns.str.strip() \n",
    "df['Number Plate'] = pd.to_numeric(df['Number Plate'], errors='coerce')\n",
    "\n",
    "# Plot lineplot using Seaborn\n",
    "plt.figure(figsize=(10, 6))\n",
    "sns.lineplot(x='Time', y='Date', data=df)\n",
    "plt.title('Value Distribution by Category')\n",
    "plt.show()\n"
   ]
  },
  {
   "cell_type": "code",
   "execution_count": 47,
   "id": "f39811af-8299-4125-859e-4be058c2a9b5",
   "metadata": {},
   "outputs": [
    {
     "data": {
      "image/png": "[encoded data removed]",
      "text/plain": [
       "<Figure size 1000x600 with 1 Axes>"
      ]
     },
     "metadata": {},
     "output_type": "display_data"
    },
    {
     "data": {
      "image/png": "[encoded data removed]",
      "text/plain": [
       "<Figure size 640x480 with 1 Axes>"
      ]
     },
     "metadata": {},
     "output_type": "display_data"
    }
   ],
   "source": [
    "plt.figure(figsize=(10,6))\n",
    "for col in df.columns:\n",
    "    if col !='Date':\n",
    "        plt.title(col)\n",
    "        sns.boxplot('Number Plate' == df[col])\n",
    "        plt.show()"
   ]
  },
  {
   "cell_type": "code",
   "execution_count": 50,
   "id": "763e7bb0-d815-4621-af2b-94d7800e0e01",
   "metadata": {},
   "outputs": [
    {
     "name": "stderr",
     "output_type": "stream",
     "text": [
      "/opt/anaconda3/lib/python3.11/site-packages/seaborn/_oldcore.py:1119: FutureWarning: use_inf_as_na option is deprecated and will be removed in a future version. Convert inf values to NaN before operating instead.\n",
      "  with pd.option_context('mode.use_inf_as_na', True):\n"
     ]
    },
    {
     "data": {
      "image/png": "[encoded data removed]",
      "text/plain": [
       "<Figure size 640x480 with 1 Axes>"
      ]
     },
     "metadata": {},
     "output_type": "display_data"
    }
   ],
   "source": [
    "plt.subplot(2, 1, 1)\n",
    "sns.histplot(df['Time'], bins=24, kde=False)\n",
    "plt.title('Vehicle Entry Frequency ')\n",
    "plt.xlabel('Time of the Day')\n",
    "plt.ylabel('Number of Entries')\n",
    "\n",
    "\n",
    "plt.tight_layout()\n",
    "plt.show()\n",
    "\n"
   ]
  },
  {
   "cell_type": "code",
   "execution_count": 52,
   "id": "b6a28fee-e8e8-4167-bd49-5ecfd976f4b1",
   "metadata": {},
   "outputs": [
    {
     "name": "stdout",
     "output_type": "stream",
     "text": [
      "Peak Entry Hour: 15:21:35\n"
     ]
    }
   ],
   "source": [
    "# Peak times analysis\n",
    "entry_peak_hour = df['Time'].mode()[0]\n",
    "print(f\"Peak Entry Hour: {entry_peak_hour}\")\n",
    "\n"
   ]
  },
  {
   "cell_type": "code",
   "execution_count": null,
   "id": "0a49a9bf-d5ed-4656-b765-a72e030dceff",
   "metadata": {},
   "outputs": [],
   "source": []
  }
 ],
 "metadata": {
  "kernelspec": {
   "display_name": "Python 3 (ipykernel)",
   "language": "python",
   "name": "python3"
  },
  "language_info": {
   "codemirror_mode": {
    "name": "ipython",
    "version": 3
   },
   "file_extension": ".py",
   "mimetype": "text/x-python",
   "name": "python",
   "nbconvert_exporter": "python",
   "pygments_lexer": "ipython3",
   "version": "3.11.7"
  }
 },
 "nbformat": 4,
 "nbformat_minor": 5
}
